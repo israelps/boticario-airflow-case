{
 "cells": [
  {
   "cell_type": "code",
   "execution_count": 1,
   "metadata": {},
   "outputs": [],
   "source": [
    "import pandas as pd \n",
    "import requests"
   ]
  },
  {
   "cell_type": "code",
   "execution_count": 2,
   "metadata": {},
   "outputs": [],
   "source": [
    "\n",
    "TOKEN = \"BQBMmu-sWqa94jglVOGhNLhlsBWnyR8FqnW_xI1LtARAfDH-ZNIoUdebSiR4B5Ebpr0XhkMgpccZreMP2qRpSCh0opjkZ4v8RmV0ws2WLmDwpjweK7QqkE5itqKVInNFU1x1R7nn2NQYZCBNTtBREiy3zOeXzIWoX84CUU8Q66a6Z_Qf-38ySWN6IhaC89nc3WdG\"\n",
    "\n",
    "SHOW_ID = \"1oMIHOXsrLFENAeM743g93\" #ID DO GRUPO DATA HACKERS NO SPOTIFY\n",
    "BASE_URL = \"https://api.spotify.com/v1\"\n",
    "LIMIT = 50\n",
    "MARKET = \"BR\" # para limitar apenas show exibidos no Brasil\n",
    "TYPE = \"show\" # limita a busca apenas a shows (podcasts)\n",
    "QUERY_PARAM = \"data%20hackers\"\n",
    "\n"
   ]
  },
  {
   "cell_type": "code",
   "execution_count": 3,
   "metadata": {},
   "outputs": [],
   "source": [
    "headers = {\n",
    "    \"Accept\" : \"application/json\",\n",
    "    \"Content-Type\" : \"application/json\",\n",
    "    \"Authorization\" : \"Bearer {token}\".format(token=TOKEN)\n",
    "}"
   ]
  },
  {
   "cell_type": "code",
   "execution_count": 4,
   "metadata": {},
   "outputs": [],
   "source": []
  },
  {
   "cell_type": "code",
   "execution_count": 5,
   "metadata": {},
   "outputs": [
    {
     "data": {
      "text/html": [
       "<div>\n",
       "<style scoped>\n",
       "    .dataframe tbody tr th:only-of-type {\n",
       "        vertical-align: middle;\n",
       "    }\n",
       "\n",
       "    .dataframe tbody tr th {\n",
       "        vertical-align: top;\n",
       "    }\n",
       "\n",
       "    .dataframe thead th {\n",
       "        text-align: right;\n",
       "    }\n",
       "</style>\n",
       "<table border=\"1\" class=\"dataframe\">\n",
       "  <thead>\n",
       "    <tr style=\"text-align: right;\">\n",
       "      <th></th>\n",
       "      <th>id</th>\n",
       "      <th>name</th>\n",
       "      <th>description</th>\n",
       "      <th>total_episodes</th>\n",
       "    </tr>\n",
       "  </thead>\n",
       "  <tbody>\n",
       "    <tr>\n",
       "      <th>0</th>\n",
       "      <td>1oMIHOXsrLFENAeM743g93</td>\n",
       "      <td>Data Hackers</td>\n",
       "      <td>O podcast oficial do Data Hackers: a maior com...</td>\n",
       "      <td>69</td>\n",
       "    </tr>\n",
       "    <tr>\n",
       "      <th>1</th>\n",
       "      <td>5b4GisxKJThRnRWaqRXmHw</td>\n",
       "      <td>The Data Scientist Show</td>\n",
       "      <td>A deep dive into data scientists' day-to-day w...</td>\n",
       "      <td>61</td>\n",
       "    </tr>\n",
       "    <tr>\n",
       "      <th>2</th>\n",
       "      <td>0VsNN95jsJVRS424eCFDlg</td>\n",
       "      <td>Let's Data</td>\n",
       "      <td>O Let's Data traz pessoas inteligentes e inter...</td>\n",
       "      <td>31</td>\n",
       "    </tr>\n",
       "    <tr>\n",
       "      <th>3</th>\n",
       "      <td>4Sacw5UzY7utm6coTEHS0h</td>\n",
       "      <td>Naked Data Science</td>\n",
       "      <td>The #1 podcast on applied data science. No flu...</td>\n",
       "      <td>35</td>\n",
       "    </tr>\n",
       "    <tr>\n",
       "      <th>4</th>\n",
       "      <td>3jtf4lXKXRBaDtmMvLk3jF</td>\n",
       "      <td>Spatial Hackers Podcast</td>\n",
       "      <td>Criado por João Ataíde do podcast TecnoloGEO, ...</td>\n",
       "      <td>19</td>\n",
       "    </tr>\n",
       "  </tbody>\n",
       "</table>\n",
       "</div>"
      ],
      "text/plain": [
       "                       id                     name  \\\n",
       "0  1oMIHOXsrLFENAeM743g93             Data Hackers   \n",
       "1  5b4GisxKJThRnRWaqRXmHw  The Data Scientist Show   \n",
       "2  0VsNN95jsJVRS424eCFDlg               Let's Data   \n",
       "3  4Sacw5UzY7utm6coTEHS0h       Naked Data Science   \n",
       "4  3jtf4lXKXRBaDtmMvLk3jF  Spatial Hackers Podcast   \n",
       "\n",
       "                                         description  total_episodes  \n",
       "0  O podcast oficial do Data Hackers: a maior com...              69  \n",
       "1  A deep dive into data scientists' day-to-day w...              61  \n",
       "2  O Let's Data traz pessoas inteligentes e inter...              31  \n",
       "3  The #1 podcast on applied data science. No flu...              35  \n",
       "4  Criado por João Ataíde do podcast TecnoloGEO, ...              19  "
      ]
     },
     "execution_count": 5,
     "metadata": {},
     "output_type": "execute_result"
    }
   ],
   "source": [
    "\n",
    "def search_podcasts() -> pd.DataFrame: \n",
    "    SEARCH_URL = f\"{BASE_URL}/search?q={QUERY_PARAM}&type={TYPE}&market={MARKET}&limit={LIMIT}\"\n",
    "\n",
    "    r = req.get(SEARCH_URL, headers = headers, timeout=5)\n",
    "    data = r.json()\n",
    "    \n",
    "    shows = {\n",
    "        \"id\" : [],\n",
    "        \"name\" : [],\n",
    "        \"description\" : [],        \n",
    "        \"total_episodes\" : [],\n",
    "    }\n",
    "\n",
    "    for show in data[\"shows\"][\"items\"]:\n",
    "        shows[\"id\"].append(show[\"id\"])\n",
    "        shows[\"name\"].append(show[\"name\"])\n",
    "        shows[\"description\"].append(show[\"description\"])\n",
    "        shows[\"total_episodes\"].append(show[\"total_episodes\"])\n",
    "\n",
    "    shows_df = pd.DataFrame(shows, columns = [\"id\", \"name\", \"description\", \"total_episodes\"])\n",
    "    return shows_df\n",
    "\n",
    "podcasts_df = search_podcasts()\n",
    "podcasts_df.head()"
   ]
  },
  {
   "cell_type": "code",
   "execution_count": null,
   "metadata": {},
   "outputs": [],
   "source": [
    "def get_episodes() -> pd.DataFrame:    \n",
    "    \n",
    "    SEARCH_URL = f\"{BASE_URL}/shows/{SHOW_ID}/episodes?market={MARKET}&limit={LIMIT}\"\n",
    "    try:\n",
    "        r = req.get(SEARCH_URL, headers = headers, timeout=5)\n",
    "        data = r.json()\n",
    "    except:\n",
    "        print(\"Erro ao buscar os episódios\")\n",
    "        return None\n",
    "    \n",
    "    data = r.json()\n",
    "    if dict(data).get(\"error\"):\n",
    "        print(data)\n",
    "        return None\n",
    "\n",
    "\n",
    "    episodes = {\n",
    "        \"id\" : [],\n",
    "        \"name\" : [],\n",
    "        \"description\" : [],\n",
    "        \"release_date\" : [],\n",
    "        \"duration_ms\" : [],\n",
    "        \"language\" : [],\n",
    "        \"explicit\" : [],\n",
    "        \"type\" : [],\n",
    "    }\n",
    "\n",
    "    for episode in data[\"items\"]:\n",
    "        episodes[\"id\"].append(episode[\"id\"])\n",
    "        episodes[\"name\"].append(episode[\"name\"])\n",
    "        episodes[\"description\"].append(episode[\"description\"])\n",
    "        episodes[\"release_date\"].append(episode[\"release_date\"])\n",
    "        episodes[\"duration_ms\"].append(episode[\"duration_ms\"])\n",
    "        episodes[\"language\"].append(episode[\"language\"])\n",
    "        episodes[\"explicit\"].append(episode[\"explicit\"])\n",
    "        episodes[\"type\"].append(episode[\"type\"])\n",
    "    \n",
    "    episodes_df = pd.DataFrame(episodes, columns = [\"id\", \"name\", \"description\", \"release_date\", \"duration_ms\", \"language\", \"explicit\", \"type\"])\n",
    "    return episodes_df\n",
    "\n",
    "episodes_df = get_episodes()\n",
    "episodes_df.head()"
   ]
  },
  {
   "cell_type": "code",
   "execution_count": null,
   "metadata": {},
   "outputs": [],
   "source": [
    "episodes_df.query(\"description.str.contains('Boticário')\", engine=\"python\")"
   ]
  },
  {
   "cell_type": "code",
   "execution_count": 4,
   "metadata": {},
   "outputs": [],
   "source": [
    "import base64\n",
    "import requests"
   ]
  },
  {
   "cell_type": "code",
   "execution_count": 14,
   "metadata": {},
   "outputs": [],
   "source": [
    "url = 'https://accounts.spotify.com/api/token'\n",
    "headers = {}\n",
    "data = {}\n",
    "\n",
    "clientId = \"4953c75490fb4446b30887c26ab502b8\"\n",
    "clientSecret = \"b62af6e13ab04a2781e748ccd103e7a3\""
   ]
  },
  {
   "cell_type": "code",
   "execution_count": 29,
   "metadata": {},
   "outputs": [
    {
     "name": "stdout",
     "output_type": "stream",
     "text": [
      "{'access_token': 'BQAOdclZnJ-F-bsrFT07uwp7N1namn95iciAGikGi4xHcRbJ6i1_BvEOq0zRttUDfFxb6JxkDuj5dbpoWhmyyvsg_ytmqTq6RdKwEh-f_ERJA9KJUZxR', 'token_type': 'Bearer', 'expires_in': 3600}\n"
     ]
    }
   ],
   "source": [
    "import requests\n",
    "\n",
    "import base64\n",
    "\n",
    "encoded = base64.b64encode((clientId + \":\" + clientSecret).encode(\"ascii\")).decode(\"ascii\")\n",
    "\n",
    "headers = {\n",
    "     \"Content-Type\": \"application/x-www-form-urlencoded\",\n",
    "     \"Authorization\": \"Basic \" + encoded\n",
    "}\n",
    " \n",
    "payload = {\n",
    "     \"grant_type\": \"client_credentials\"\n",
    "}\n",
    " \n",
    "response = requests.post(\"https://accounts.spotify.com/api/token\", data=payload, headers=headers, timeout=5)\n",
    "response = response.json()\n",
    "print(response)"
   ]
  },
  {
   "cell_type": "code",
   "execution_count": 33,
   "metadata": {},
   "outputs": [
    {
     "data": {
      "text/plain": [
       "'BQAOdclZnJ-F-bsrFT07uwp7N1namn95iciAGikGi4xHcRbJ6i1_BvEOq0zRttUDfFxb6JxkDuj5dbpoWhmyyvsg_ytmqTq6RdKwEh-f_ERJA9KJUZxR'"
      ]
     },
     "execution_count": 33,
     "metadata": {},
     "output_type": "execute_result"
    }
   ],
   "source": [
    "response[\"access_token\"]"
   ]
  },
  {
   "cell_type": "code",
   "execution_count": null,
   "metadata": {},
   "outputs": [],
   "source": []
  }
 ],
 "metadata": {
  "kernelspec": {
   "display_name": "boticario",
   "language": "python",
   "name": "python3"
  },
  "language_info": {
   "codemirror_mode": {
    "name": "ipython",
    "version": 3
   },
   "file_extension": ".py",
   "mimetype": "text/x-python",
   "name": "python",
   "nbconvert_exporter": "python",
   "pygments_lexer": "ipython3",
   "version": "3.8.16"
  },
  "orig_nbformat": 4,
  "vscode": {
   "interpreter": {
    "hash": "32aa03d42e0d4d57227ce5901ea311adc554d45acc45652577e7ce00e07308bc"
   }
  }
 },
 "nbformat": 4,
 "nbformat_minor": 2
}
